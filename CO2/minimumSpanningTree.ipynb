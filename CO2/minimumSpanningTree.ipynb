{
 "cells": [
  {
   "cell_type": "markdown",
   "metadata": {},
   "source": [
    "# Prim's Algrithm   "
   ]
  },
  {
   "cell_type": "code",
   "execution_count": 5,
   "metadata": {},
   "outputs": [
    {
     "name": "stdout",
     "output_type": "stream",
     "text": [
      "[1, 0, 1, 0, 1]\n"
     ]
    }
   ],
   "source": [
    "def prim(graph):\n",
    "    mst = []\n",
    "    near_array = [min(enumerate(lst), key=lambda x: x[1] if x[1] > 0 else float('inf'))[0] for lst in graph]\n",
    "    start  = 0\n",
    "\n",
    "    print(near_array)\n",
    "\n",
    "    edge = [start,start]\n",
    "    for i in range(0, len(graph)):\n",
    "        if graph[0][i] > graph[edge[0]][edge[1]]:\n",
    "            edge[1] = i\n",
    "\n",
    "    mst.append(edge)\n",
    "    near_array[edge[0]] = 0\n",
    "    \n",
    "\n",
    "graph = [[0, 2, 0, 6, 0],\n",
    "         [2, 0, 3, 8, 5],\n",
    "         [0, 3, 0, 0, 7],\n",
    "         [6, 8, 0, 0, 9],\n",
    "         [0, 5, 7, 9, 0]]\n",
    "\n",
    "prim(graph)"
   ]
  },
  {
   "cell_type": "code",
   "execution_count": null,
   "metadata": {},
   "outputs": [],
   "source": [
    "near_array = [min(enumerate(lst), key=lambda x: x[1] if x[1] > 0 else float('inf'))[0] for lst in graph]"
   ]
  },
  {
   "cell_type": "code",
   "execution_count": 3,
   "metadata": {},
   "outputs": [
    {
     "name": "stdout",
     "output_type": "stream",
     "text": [
      "0\n"
     ]
    }
   ],
   "source": [
    "def index_of_min(lst):\n",
    "    return min(enumerate(lst), key=lambda x: x[1])[0]\n",
    "\n",
    "# usage\n",
    "lst = [2, 4, 3, 8, 5]\n",
    "print(index_of_min(lst))  # prints: 1"
   ]
  }
 ],
 "metadata": {
  "kernelspec": {
   "display_name": "Python 3",
   "language": "python",
   "name": "python3"
  },
  "language_info": {
   "codemirror_mode": {
    "name": "ipython",
    "version": 3
   },
   "file_extension": ".py",
   "mimetype": "text/x-python",
   "name": "python",
   "nbconvert_exporter": "python",
   "pygments_lexer": "ipython3",
   "version": "3.11.4"
  }
 },
 "nbformat": 4,
 "nbformat_minor": 2
}
