{
 "cells": [
  {
   "cell_type": "markdown",
   "metadata": {},
   "source": [
    "# Huffan Encoding"
   ]
  },
  {
   "cell_type": "code",
   "execution_count": 7,
   "metadata": {},
   "outputs": [],
   "source": [
    "import random\n",
    "import string"
   ]
  },
  {
   "cell_type": "code",
   "execution_count": 19,
   "metadata": {},
   "outputs": [
    {
     "name": "stdout",
     "output_type": "stream",
     "text": [
      "[('x', 0.006301351586521779), ('i', 0.007194422851198952), ('s', 0.012538796380127823), ('f', 0.012990450231547343), ('u', 0.018299488908955823), ('o', 0.025956865661637227), ('j', 0.027158962681289388), ('l', 0.030134689261792358), ('g', 0.03151891405200993), ('p', 0.03225630520569259), ('y', 0.03230641999490952), ('z', 0.034187409794807125), ('q', 0.03574686187949398), ('d', 0.036139172801960016), ('e', 0.03837996711011297), ('m', 0.04672819340651547), ('k', 0.048172645178855604), ('a', 0.05032563982286975), ('c', 0.052737123518397225), ('b', 0.05517943801970009), ('r', 0.05524237546074713), ('t', 0.05557664665089464), ('w', 0.0580314227379702), ('h', 0.0621236334718047), ('n', 0.0665085621399607), ('v', 0.06826424119022773)]\n"
     ]
    }
   ],
   "source": [
    "def generate_freq():\n",
    "    alphabets = string.ascii_lowercase\n",
    "    values = [random.random() for _ in range(26)]\n",
    "    total = sum(values)\n",
    "    normalized_values = [value / total for value in values]\n",
    "    result = list(zip(alphabets, normalized_values))\n",
    "    sorted_result = sorted(result, key=lambda x: x[1])\n",
    "    return sorted_result\n",
    "\n",
    "result = generate_freq()\n",
    "print(result)\n"
   ]
  },
  {
   "cell_type": "code",
   "execution_count": 17,
   "metadata": {},
   "outputs": [],
   "source": [
    "class Node:\n",
    "    def __init__(self, a, f):\n",
    "        character = a\n",
    "        freq = f\n",
    "        left = None\n",
    "        right = None\n",
    "\n",
    "def initiateTreeList(a):\n",
    "    lis = []\n",
    "    for i in a:\n",
    "        lis.append(Node(i[0], i[1]))\n",
    "    return lis\n",
    "\n",
    "def populateTree(a):\n",
    "    while len(a) > 1:\n",
    "        new = Node(None, a[0].freq + a[1].freq)\n",
    "    "
   ]
  }
 ],
 "metadata": {
  "kernelspec": {
   "display_name": "Python 3",
   "language": "python",
   "name": "python3"
  },
  "language_info": {
   "codemirror_mode": {
    "name": "ipython",
    "version": 3
   },
   "file_extension": ".py",
   "mimetype": "text/x-python",
   "name": "python",
   "nbconvert_exporter": "python",
   "pygments_lexer": "ipython3",
   "version": "3.11.4"
  }
 },
 "nbformat": 4,
 "nbformat_minor": 2
}
