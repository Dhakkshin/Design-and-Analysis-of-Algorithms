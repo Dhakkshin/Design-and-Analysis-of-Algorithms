{
 "cells": [
  {
   "cell_type": "markdown",
   "metadata": {},
   "source": [
    "# Convex Hull\n",
    "#### 2D - QuickHull"
   ]
  },
  {
   "cell_type": "code",
   "execution_count": 2,
   "metadata": {},
   "outputs": [],
   "source": [
    "# imports\n",
    "\n",
    "import random\n",
    "import matplotlib.pyplot as plt\n",
    "import math\n",
    "import numpy as np"
   ]
  },
  {
   "cell_type": "code",
   "execution_count": 3,
   "metadata": {},
   "outputs": [],
   "source": [
    "# generate random coordinates\n",
    "\n",
    "def generateCoordinates(x_min : int, y_min : int, x_max : int, y_max : int, n : int) -> list[int]:\n",
    "    plane : list[int] = [(random.randint(x_min,x_max+1),random.randint(y_min,y_max+1)) for _ in range(n)]\n",
    "    return plane"
   ]
  },
  {
   "cell_type": "code",
   "execution_count": 4,
   "metadata": {},
   "outputs": [],
   "source": [
    "def plot_points_and_line(points1, points2, p1, p2):\n",
    "    x1, y1 = zip(*points1)\n",
    "    points2.append(points2[0])\n",
    "    x2, y2 = zip(*points2)\n",
    "    plt.plot(x2, y2, color='red')\n",
    "    plt.scatter(x1, y1)\n",
    "    plt.plot([p1[0], p2[0]], [p1[1], p2[1]], color='blue')\n",
    "    plt.show()\n",
    "\n",
    "    \n",
    "def intermediate_display(s1, s2, left, right, fp):\n",
    "        # s1 = [tuple(point) for point in s1] if isinstance(s1, np.ndarray) else s1\n",
    "        # s2 = [tuple(point) for point in s2] if isinstance(s2, np.ndarray) else s2\n",
    "        if s1:\n",
    "            x1, y1 = zip(*s1)\n",
    "            plt.scatter(x1, y1, color='yellow')\n",
    "        else:\n",
    "             print('s1 ', s1)\n",
    "        if s2:\n",
    "            x2, y2 = zip(*s2)\n",
    "            plt.scatter(x2, y2, color='purple')\n",
    "        else:\n",
    "             print('s2 ', s2)\n",
    "        # Connect the three coordinates with lines\n",
    "        plt.plot([left[0], right[0]], [left[1], right[1]], color='blue')\n",
    "        plt.plot([left[0], fp[0]], [left[1], fp[1]], color='blue')\n",
    "        plt.plot([right[0], fp[0]], [right[1], fp[1]], color='blue')\n",
    "\n",
    "        plt.show()\n",
    "        \n"
   ]
  },
  {
   "cell_type": "code",
   "execution_count": 5,
   "metadata": {},
   "outputs": [],
   "source": [
    "def plot_points_and_line(points1, points2):\n",
    "    x1, y1 = zip(*points1)\n",
    "    points2.append(points2[0])\n",
    "    x2, y2 = zip(*points2)\n",
    "    plt.plot(x2, y2, color='red')\n",
    "    plt.scatter(x1, y1)\n",
    "    plt.title('Quick Hull')\n",
    "    plt.show()\n"
   ]
  },
  {
   "cell_type": "code",
   "execution_count": 6,
   "metadata": {},
   "outputs": [],
   "source": [
    "def perpendicular_distance(A, B, C):\n",
    "    x1, y1 = A\n",
    "    x2, y2 = B\n",
    "    x3, y3 = C\n",
    "    \n",
    "    if x2 - x1 != 0:\n",
    "        m = (y2 - y1) / (x2 - x1)\n",
    "    else:\n",
    "        m = float('inf')\n",
    "    \n",
    "    A_line = -m\n",
    "    B_line = 1\n",
    "    C_line = -y1 + m * x1\n",
    "    \n",
    "    distance = abs(A_line * x3 + B_line * y3 + C_line) / math.sqrt(A_line**2 + B_line**2)\n",
    "    \n",
    "    return distance\n",
    "\n"
   ]
  },
  {
   "cell_type": "code",
   "execution_count": 7,
   "metadata": {},
   "outputs": [],
   "source": [
    "def cross_product(p, q, r):\n",
    "        return ((q[1] - p[1]) * (r[0] - q[0])) - ((q[0] - p[0]) * (r[1] - q[1]))\n"
   ]
  },
  {
   "cell_type": "code",
   "execution_count": 8,
   "metadata": {},
   "outputs": [],
   "source": [
    "def quickHull(points):\n",
    "    hull = []\n",
    "    sortedPoints = sorted(points, key=lambda point: point[0])    \n",
    "    left = sortedPoints[0]\n",
    "    right = sortedPoints[-1]\n",
    "    # print(left, right, sortedPoints, sep='\\n\\n')\n",
    "    hull.extend([left, right])\n",
    "\n",
    "    s1 = [] #left\n",
    "    s2 = [] #right\n",
    "    for i in range(1, len(points)-1):\n",
    "        turn = cross_product(left, points[i], right)\n",
    "        if turn < 0:\n",
    "            s1.append(points[i])\n",
    "        elif turn > 0:\n",
    "            s2.append(points[i])\n",
    "        else:\n",
    "            pass\n",
    "\n",
    "    hull.extend(findHull(s1, left, right))\n",
    "    hull.extend(findHull(s2, right, left))\n",
    "    return hull, left, right\n",
    "\n",
    "\n",
    "def findHull(points, left, right):\n",
    "    if len(points) <= 1:\n",
    "        return points\n",
    "    disDict = {(tuple(x)): perpendicular_distance(left, right, x) for x in points}\n",
    "    sorted_disDict = sorted(disDict.items(), reverse=True, key=lambda item: item[1])\n",
    "\n",
    "    farthest_point, farthest_distance = sorted_disDict[0]  \n",
    "    \n",
    "    fp = farthest_point\n",
    "    s1 = []\n",
    "    s2 = []\n",
    "    for i in range(len(points)):\n",
    "        turn1 = cross_product(left, points[i], fp)\n",
    "        turn2 = cross_product(fp, points[i], right)\n",
    "        if turn1 < 0:\n",
    "            s1.append(points[i])\n",
    "        elif turn2 < 0:\n",
    "            s2.append(points[i])\n",
    "        else:\n",
    "            pass\n",
    "        \n",
    "    # intermediate_display(s1,s2, left, right, fp)\n",
    "    hull = [fp]\n",
    "    hull.extend(findHull(s1, left, fp))\n",
    "    hull.extend(findHull(s2, fp, right))\n",
    "    return hull"
   ]
  },
  {
   "cell_type": "code",
   "execution_count": 9,
   "metadata": {},
   "outputs": [],
   "source": [
    "# def sortByAngle(p):\n",
    "#     start = p[0]\n",
    "#     print(start)\n",
    "#     sortedByAngle = sorted(p, key=lambda point: math.atan2(point[1] - start[1], point[0] - start[0]))\n",
    "#     return sortedByAngle\n",
    "\n",
    "def sortByAngle(p):\n",
    "    points = sorted(p, key=lambda x: (x[1],x[0]))\n",
    "    # print(points)\n",
    "    # display_coordinates(points)\n",
    "\n",
    "    start = points[0]\n",
    "    sortedByAngle = sorted(points, key = lambda point : math.atan2(point[1]-start[1], point[0]-start[0]))\n",
    "    # print(sortedByAngle)\n",
    "    # display_coordinates_WithLines(sortedByAngle)\n",
    "    return sortedByAngle"
   ]
  },
  {
   "cell_type": "code",
   "execution_count": 10,
   "metadata": {},
   "outputs": [
    {
     "data": {
      "image/png": "[encoded data removed]",
      "text/plain": [
       "<Figure size 640x480 with 1 Axes>"
      ]
     },
     "metadata": {},
     "output_type": "display_data"
    }
   ],
   "source": [
    "initialPoints = generateCoordinates(-50, -50, 50, 50, 50)\n",
    "# convexHull_GrahamScan.graham(initialPoints)\n",
    "hull, left, right = quickHull(initialPoints)\n",
    "# hull.append(hull[0])\n",
    "hull_anticlockwise = sortByAngle(hull)\n",
    "plot_points_and_line(initialPoints, hull_anticlockwise)"
   ]
  }
 ],
 "metadata": {
  "kernelspec": {
   "display_name": "Python 3",
   "language": "python",
   "name": "python3"
  },
  "language_info": {
   "codemirror_mode": {
    "name": "ipython",
    "version": 3
   },
   "file_extension": ".py",
   "mimetype": "text/x-python",
   "name": "python",
   "nbconvert_exporter": "python",
   "pygments_lexer": "ipython3",
   "version": "3.11.4"
  }
 },
 "nbformat": 4,
 "nbformat_minor": 2
}
