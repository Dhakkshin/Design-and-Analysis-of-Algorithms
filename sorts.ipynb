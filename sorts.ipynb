{
 "cells": [
  {
   "cell_type": "markdown",
   "metadata": {},
   "source": [
    "# Merge Sort"
   ]
  },
  {
   "cell_type": "code",
   "execution_count": 33,
   "metadata": {},
   "outputs": [],
   "source": [
    "# #imports\n",
    "# import pydantic\n",
    "# import icecream\n",
    "import random"
   ]
  },
  {
   "cell_type": "markdown",
   "metadata": {},
   "source": [
    "##### consider 2 arrays (equal sized, sorted, duplicates allowed), merge into single sorted new array "
   ]
  },
  {
   "cell_type": "code",
   "execution_count": 31,
   "metadata": {},
   "outputs": [],
   "source": [
    "def mergeArrays(l1 : list[int], l2 : list[int]) -> list[int]:\n",
    "    ans : list[int] = []\n",
    "    pointer1 : int = 0 \n",
    "    pointer2 : int = 0\n",
    "    \n",
    "    while (pointer1 < len(l1) and pointer2 < len(l2)):\n",
    "        if l1[pointer1] <= l2[pointer2]:\n",
    "            ans.append(l1[pointer1])\n",
    "            pointer1 += 1\n",
    "        else:\n",
    "            ans.append(l2[pointer2])\n",
    "            pointer2 += 1\n",
    "    \n",
    "    if pointer1 < len(l1):\n",
    "        ans.extend(l1[pointer1:])\n",
    "\n",
    "\n",
    "    if pointer2 < len(l2):\n",
    "        ans.extend(l2[pointer2:])\n",
    "\n",
    "    return ans\n",
    "\n",
    "# l1 : list[int] = [1,4,6,9]#[x for x in range(1, 6)]\n",
    "# l2 : list[int] = [2,3,4,13]#[x for x in range(6, 11)]\n",
    "\n",
    "# print(\"merged array: \", mergeArrays(l1, l2))"
   ]
  },
  {
   "cell_type": "markdown",
   "metadata": {},
   "source": [
    "## Full Merge Sort Algorithm:\n"
   ]
  },
  {
   "cell_type": "code",
   "execution_count": 34,
   "metadata": {},
   "outputs": [
    {
     "name": "stdout",
     "output_type": "stream",
     "text": [
      "\n",
      "time:  3.0776617527008057\n"
     ]
    }
   ],
   "source": [
    "import time\n",
    "def mergeSort(sortMe : list[int], low : int, high : int) -> list[int]:\n",
    "    if low == high:\n",
    "        return [sortMe[low]]\n",
    "    if low < high:\n",
    "        mid : int = int((low + high) / 2)\n",
    "        left : list[int] = mergeSort(sortMe, low, mid)\n",
    "        right : list[int] = mergeSort(sortMe, mid+1, high)\n",
    "        return mergeArrays(left, right)\n",
    "    \n",
    "testLength : int = 1000000\n",
    "toBeSorted : list[int] = [random.randint(1, 100) for _ in range(testLength)]\n",
    "t1 = time.time()\n",
    "postSort = mergeSort(toBeSorted, 0, len(toBeSorted)-1)\n",
    "t2 = time.time()\n",
    "print(\"\\ntime: \", t2-t1) #\"sorted array: \", postSort,\n"
   ]
  },
  {
   "cell_type": "markdown",
   "metadata": {},
   "source": [
    "## Min and Max using Divide and Conquer\n"
   ]
  },
  {
   "cell_type": "code",
   "execution_count": 84,
   "metadata": {},
   "outputs": [
    {
     "name": "stdout",
     "output_type": "stream",
     "text": [
      "Original array:  [46, 62, 88, 21, 11, 17, 64, 45, 52, 87]\n",
      "Sorted array:  [11, 17, 21, 45, 46, 52, 62, 64, 87, 88]\n",
      "(sorted array for verfication)\n",
      "\n",
      "Min and Max caluclated separately by div and conq:\n",
      "\n",
      "min:  11 \n",
      "time:  0.0\n",
      "\n",
      "max:  88 \n",
      "time:  0.0\n"
     ]
    }
   ],
   "source": [
    "def findMin(arr : list[int], low : int, high: int) -> int:\n",
    "    if low == high:\n",
    "        return arr[low]\n",
    "    mid : int = int((low + high) / 2)\n",
    "    left : int = findMin(arr, low, mid)\n",
    "    right : int = findMin(arr, mid+1, high)\n",
    "    return left if left < right else right\n",
    "\n",
    "def findMax(arr : list[int], low : int, high: int) -> int:\n",
    "    if low == high:\n",
    "        return arr[low]\n",
    "    mid : int = int((low + high) / 2)\n",
    "    left : int = findMax(arr, low, mid)\n",
    "    right : int = findMax(arr, mid+1, high)\n",
    "    return left if left > right else right\n",
    "\n",
    "testLength : int = 10\n",
    "toBeTested : list[int] = [random.randint(1, 100) for _ in range(testLength)]\n",
    "print(\"Original array: \", toBeTested) \n",
    "print(\"Sorted array: \", mergeSort(toBeTested, 0, len(toBeTested)-1))\n",
    "\n",
    "print(\"(sorted array for verfication)\\n\\nMin and Max caluclated separately by div and conq:\")\n",
    "\n",
    "t1 = time.time()\n",
    "min : int = findMin(toBeTested, 0, len(toBeTested)-1)\n",
    "t2 = time.time()\n",
    "print(\"\\nmin: \", min, \"\\ntime: \", t2-t1)\n",
    "\n",
    "t1 = time.time()\n",
    "max : int = findMax(toBeTested, 0, len(toBeTested)-1)\n",
    "t2 = time.time()\n",
    "print(\"\\nmax: \", max, \"\\ntime: \", t2-t1)"
   ]
  },
  {
   "cell_type": "markdown",
   "metadata": {},
   "source": [
    "### todo\n",
    "#### \n",
    "\n",
    "1. min, max using div and conq\n",
    "1. prove that merge sort is stable\n",
    "1. inversion count in array using merge sort\n",
    "1. count the number of smaller elements on the right of every element in an array using merge sort"
   ]
  },
  {
   "cell_type": "markdown",
   "metadata": {},
   "source": [
    "# Quick Sort"
   ]
  },
  {
   "cell_type": "code",
   "execution_count": 28,
   "metadata": {},
   "outputs": [
    {
     "name": "stdout",
     "output_type": "stream",
     "text": [
      "swapping positions 3 5\n",
      "swapping positions 0 4\n",
      "[6, 1, 2, 8, 10, 14, 20, 11] left call:  0 3\n",
      "swapping positions 0 2\n",
      "[2, 1, 6, 8, 10, 14, 20, 11] left call:  0 1\n",
      "swapping positions 0 1\n",
      "[1, 2, 6, 8, 10, 14, 20, 11] left call:  0 0\n",
      "[1, 2, 6, 8, 10, 14, 20, 11] right call:  3 3\n",
      "[1, 2, 6, 8, 10, 14, 20, 11] right call:  5 7\n",
      "swapping positions 6 7\n",
      "swapping positions 5 6\n",
      "[1, 2, 6, 8, 10, 11, 14, 20] left call:  5 5\n",
      "[1, 2, 6, 8, 10, 11, 14, 20] right call:  7 7\n",
      "[1, 2, 6, 8, 10, 11, 14, 20]\n"
     ]
    }
   ],
   "source": [
    "def quickSort(sortMe : list[int], low : int, high : int) -> list[int]:\n",
    "\n",
    "    if low == high:\n",
    "        return [sortMe[low]]\n",
    "    \n",
    "    pivot : int = low\n",
    "    i : int = low + 1\n",
    "    j : int = high\n",
    " \n",
    "    while i < j:\n",
    "            \n",
    "        while sortMe[pivot] > sortMe[i]:\n",
    "            i+=1\n",
    "        while sortMe[pivot] < sortMe[j]:\n",
    "            j-=1\n",
    "        # swapping:\n",
    "        if not i < j:\n",
    "            break\n",
    "        print('swapping positions', i, j)\n",
    "        sortMe[i], sortMe[j] = sortMe[j], sortMe[i]\n",
    "    print('swapping positions', pivot, j)\n",
    "    sortMe[pivot], sortMe[j] = sortMe[j], sortMe[pivot]\n",
    "    \n",
    "    left = right = []\n",
    "\n",
    "    if low <= j-1:\n",
    "        print(sortMe, 'left call: ', low, j-1)\n",
    "        left = quickSort(sortMe, low, j-1)\n",
    "    if j+1 <= high:\n",
    "        print(sortMe, 'right call: ', j+1, high)\n",
    "        right = quickSort(sortMe, j+1, high)\n",
    "\n",
    "    return left + [sortMe[j]] + right\n",
    "\n",
    "print(quickSort([10,1,2,14,6,8,20,11], 0, 7))\n",
    "    "
   ]
  }
 ],
 "metadata": {
  "kernelspec": {
   "display_name": "Python 3",
   "language": "python",
   "name": "python3"
  },
  "language_info": {
   "codemirror_mode": {
    "name": "ipython",
    "version": 3
   },
   "file_extension": ".py",
   "mimetype": "text/x-python",
   "name": "python",
   "nbconvert_exporter": "python",
   "pygments_lexer": "ipython3",
   "version": "3.11.4"
  }
 },
 "nbformat": 4,
 "nbformat_minor": 2
}
