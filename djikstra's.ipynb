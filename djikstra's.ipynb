{
 "cells": [
  {
   "cell_type": "code",
   "execution_count": 32,
   "metadata": {},
   "outputs": [
    {
     "name": "stdout",
     "output_type": "stream",
     "text": [
      "Enter the adjacency matrix:\n",
      "[[-1, 3, 4, 6], [3, -1, 3, 5], [4, 3, -1, 84], [6, 5, 84, -1]]\n"
     ]
    }
   ],
   "source": [
    "# get adj matrix input from user\n",
    " \n",
    "def get_adjacency_matrix():\n",
    "    n = int(input(\"Enter the number of vertices: \"))\n",
    "    start = int(input(\"Enter the starting vertex: \"))\n",
    "    matrix = [[0] * n for _ in range(n)]\n",
    "    print(\"Enter the adjacency matrix:\")\n",
    "    for i in range(n):\n",
    "        for j in range(i, n):\n",
    "            if i == j:\n",
    "                matrix[i][j] = -1\n",
    "                continue\n",
    "            num = int(input(f\"Is there an edge between {i} and {j}? (n/1): \"))\n",
    "            matrix[i][j] = num\n",
    "            matrix[j][i] = num\n",
    "            \n",
    "    return matrix, start\n",
    "\n",
    "adjacency_matrix = get_adjacency_matrix()\n",
    "print(adjacency_matrix[0])\n"
   ]
  },
  {
   "cell_type": "code",
   "execution_count": 25,
   "metadata": {},
   "outputs": [],
   "source": [
    "import heapq\n",
    "\n",
    "class MinHeap:\n",
    "    def __init__(self):\n",
    "        self._heap = []\n",
    "\n",
    "    def push(self, item):\n",
    "        heapq.heappush(self._heap, item)\n",
    "\n",
    "    def pop(self):\n",
    "        return heapq.heappop(self._heap)"
   ]
  },
  {
   "cell_type": "code",
   "execution_count": 31,
   "metadata": {},
   "outputs": [
    {
     "name": "stdout",
     "output_type": "stream",
     "text": [
      "[(1, 0, 3), (5, 0, 2), (2, 0, 1), (8, 1, 2), (98, 1, 3), (5, 2, 3)]\n",
      "(1, 0, 3)\n",
      "[(2, 0, 1), (5, 0, 2), (5, 2, 3), (8, 1, 2), (98, 1, 3)]\n",
      "(2, 0, 1)\n",
      "[(5, 0, 2), (8, 1, 2), (5, 2, 3), (98, 1, 3)]\n",
      "(5, 0, 2)\n",
      "[(5, 2, 3), (8, 1, 2), (98, 1, 3)]\n",
      "(5, 2, 3)\n",
      "[(8, 1, 2), (98, 1, 3)]\n",
      "(8, 1, 2)\n",
      "[(98, 1, 3)]\n",
      "(98, 1, 3)\n",
      "[]\n"
     ]
    }
   ],
   "source": [
    "\n",
    "# a_mat, size = get_adjacency_matrix()\n",
    "\n",
    "a_mat = [[-1, 2, 5, 1],\n",
    "[2, -1, 8, 98],\n",
    "[5, 8, -1, 5],\n",
    "[1, 98, 5, -1]] \n",
    "size = 4\n",
    "\n",
    "h = MinHeap()\n",
    "for i in range(size):\n",
    "    for j in range(i + 1, size):\n",
    "        h.push((a_mat[i][j], i, j))\n",
    "\n",
    "print(h._heap)\n"
   ]
  },
  {
   "cell_type": "markdown",
   "metadata": {},
   "source": [
    "arrays - dist and visited"
   ]
  }
 ],
 "metadata": {
  "kernelspec": {
   "display_name": "Python 3",
   "language": "python",
   "name": "python3"
  },
  "language_info": {
   "codemirror_mode": {
    "name": "ipython",
    "version": 3
   },
   "file_extension": ".py",
   "mimetype": "text/x-python",
   "name": "python",
   "nbconvert_exporter": "python",
   "pygments_lexer": "ipython3",
   "version": "undefined.undefined.undefined"
  }
 },
 "nbformat": 4,
 "nbformat_minor": 2
}
